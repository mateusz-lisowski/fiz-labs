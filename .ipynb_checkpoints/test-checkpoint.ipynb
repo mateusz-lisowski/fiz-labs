{
 "cells": [
  {
   "cell_type": "markdown",
   "id": "9c98a3e1-a837-4f86-9267-6b4ac928e739",
   "metadata": {},
   "source": [
    "# My test"
   ]
  },
  {
   "cell_type": "code",
   "execution_count": 6,
   "id": "8076823b-ade4-409a-97b5-649a8866903e",
   "metadata": {},
   "outputs": [
    {
     "name": "stdout",
     "output_type": "stream",
     "text": [
      "Lubie placki1\n"
     ]
    }
   ],
   "source": [
    "print(\"Lubie placki1\")"
   ]
  },
  {
   "cell_type": "code",
   "execution_count": null,
   "id": "83a245b0-24a1-473e-9428-ab7fbd43960b",
   "metadata": {},
   "outputs": [],
   "source": []
  }
 ],
 "metadata": {
  "kernelspec": {
   "display_name": "Python 3 (ipykernel)",
   "language": "python",
   "name": "python3"
  },
  "language_info": {
   "codemirror_mode": {
    "name": "ipython",
    "version": 3
   },
   "file_extension": ".py",
   "mimetype": "text/x-python",
   "name": "python",
   "nbconvert_exporter": "python",
   "pygments_lexer": "ipython3",
   "version": "3.10.12"
  }
 },
 "nbformat": 4,
 "nbformat_minor": 5
}
